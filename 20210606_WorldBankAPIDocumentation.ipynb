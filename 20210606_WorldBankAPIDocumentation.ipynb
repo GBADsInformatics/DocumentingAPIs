{
 "cells": [
  {
   "cell_type": "markdown",
   "metadata": {},
   "source": [
    "# Documenting APIs "
   ]
  },
  {
   "cell_type": "markdown",
   "metadata": {},
   "source": [
    "This notebook provides an example of how to document APIs that may be useful in the GBADs knowledge engine. To know whether we can disseminate data straight from an API of interest, we must know: \n",
    "* if there is any API documentation? \n",
    "* how the API is used? \n",
    "* what datasets can be accessed via the API?\n",
    "* whether the API documentation functions as presented? \n",
    "* what is returned from the API and in what format?\n",
    "* codes and acronyms used in API returns?\n",
    "\n",
    "Each of these questions will be answered in this notebook, using the World Bank API as an example. "
   ]
  },
  {
   "cell_type": "markdown",
   "metadata": {},
   "source": [
    "## Accessing metadata through the World Bank Data Catalog"
   ]
  },
  {
   "cell_type": "markdown",
   "metadata": {},
   "source": [
    "### World Bank Data Catalog Information\n",
    "\n",
    "The [World Bank Data Catalog](https://datacatalog.worldbank.org/) allows user to find the World Bank's development data by searching by data type (Geospatial data, Microdata or time series data), license, region, country or resource type (Download, Dataset, Related Material, Query Tool, Landing Page, Metadata, API Documentation etc.). Indicator codes for each data set are available through the World Bank Data Catalog, allowing you to use another World Bank API endpoint to get the data of interest. \n",
    "\n",
    "### API Relevance to GBADs\n",
    "\n",
    "The World Bank has the following collections that may be of particular interest to GBADs case studies, estimates and projects: \n",
    "* World Bank Water Data\n",
    "* World Integrated Trade Solution Trade Stats \n",
    "* World Development Report \n",
    "\n",
    "Additionally, the Living Standards Measurement Survey (LSMS) is of particular interest to the PPL Theme. \n",
    "\n",
    "By evaluating the data catalog, we can see what data are returned and accessible by the API, how and gain a better understanding of what raw data may be of particular interest to GBADs members. Further, we can evaluate whether GBADs metadata can be updated or curated directly from the World Bank Data Catalog."
   ]
  },
  {
   "cell_type": "markdown",
   "metadata": {},
   "source": [
    "### World Bank API Documentation "
   ]
  },
  {
   "cell_type": "markdown",
   "metadata": {},
   "source": [
    "World Bank Developer Information: https://datahelpdesk.worldbank.org/knowledgebase/topics/125589-developer-information\n",
    "\n",
    "Data Catalog API: https://datahelpdesk.worldbank.org/knowledgebase/articles/1886698-data-catalog-api\n",
    " \n",
    "The World Bank Data Catalog API is CKAN-compatible: http://ckan.org so the behaviour of the API will likely mimic other CKAN-compatible APIs such as OpenAfrica's API. "
   ]
  },
  {
   "cell_type": "markdown",
   "metadata": {},
   "source": [
    "### 1. Packages and Setup"
   ]
  },
  {
   "cell_type": "markdown",
   "metadata": {},
   "source": [
    "To interact with the World Bank API, we will use the following packages: \n",
    "\n",
    "    pandas \n",
    "    requests \n",
    "    json\n",
    "\n",
    "Each of these packages are commonly used for interacting with APIs in Python. "
   ]
  },
  {
   "cell_type": "code",
   "execution_count": 1,
   "metadata": {},
   "outputs": [],
   "source": [
    "import pandas as pd \n",
    "import requests\n",
    "import json"
   ]
  },
  {
   "cell_type": "markdown",
   "metadata": {},
   "source": [
    "### 2. API Queries"
   ]
  },
  {
   "cell_type": "markdown",
   "metadata": {},
   "source": [
    "The url for the datacatalog is given below. This gives us information about what "
   ]
  },
  {
   "cell_type": "code",
   "execution_count": 3,
   "metadata": {},
   "outputs": [],
   "source": [
    "#url = 'https://datacatalog.worldbank.org/api/3/action/current_package_list_with_resources?limit=20&offset=40&format=json'"
   ]
  },
  {
   "cell_type": "code",
   "execution_count": 4,
   "metadata": {},
   "outputs": [],
   "source": [
    "url = 'http://api.worldbank.org/v2/sources/2/concepts/metadata?format=json'"
   ]
  },
  {
   "cell_type": "code",
   "execution_count": 5,
   "metadata": {},
   "outputs": [],
   "source": [
    "r = requests.get(url).json()"
   ]
  },
  {
   "cell_type": "code",
   "execution_count": 7,
   "metadata": {},
   "outputs": [
    {
     "data": {
      "text/plain": [
       "{'page': 1,\n",
       " 'pages': 1,\n",
       " 'per_page': '5000',\n",
       " 'total': 7,\n",
       " 'source': [{'id': '2',\n",
       "   'name': 'World Development Indicators',\n",
       "   'concept': [{'id': 'Country', 'value': 'Country'},\n",
       "    {'id': 'Country-Series', 'value': 'Country-Series'},\n",
       "    {'id': 'Country-Time', 'value': 'Country-Time'},\n",
       "    {'id': 'FootNote', 'value': 'FootNote'},\n",
       "    {'id': 'Series', 'value': 'Series'},\n",
       "    {'id': 'Series-Time', 'value': 'Series-Time'},\n",
       "    {'id': 'Time', 'value': 'Time'}]}]}"
      ]
     },
     "execution_count": 7,
     "metadata": {},
     "output_type": "execute_result"
    }
   ],
   "source": [
    "r"
   ]
  },
  {
   "cell_type": "code",
   "execution_count": 8,
   "metadata": {},
   "outputs": [],
   "source": [
    "# See what data are available for Ethiopia"
   ]
  },
  {
   "cell_type": "code",
   "execution_count": 32,
   "metadata": {},
   "outputs": [],
   "source": [
    "url = 'http://api.worldbank.org/v2/sources/2/country/eth/metadata?format=json'"
   ]
  },
  {
   "cell_type": "code",
   "execution_count": 33,
   "metadata": {
    "scrolled": true
   },
   "outputs": [],
   "source": [
    "r = requests.get(url).json()"
   ]
  },
  {
   "cell_type": "code",
   "execution_count": 34,
   "metadata": {},
   "outputs": [
    {
     "data": {
      "text/plain": [
       "{'page': 1,\n",
       " 'pages': 1,\n",
       " 'per_page': '5000',\n",
       " 'total': 25,\n",
       " 'source': [{'id': '2',\n",
       "   'name': 'World Development Indicators',\n",
       "   'concept': [{'id': 'Country',\n",
       "     'variable': [{'id': 'ETH',\n",
       "       'metatype': [{'id': '2-alphacode', 'value': 'ET'},\n",
       "        {'id': 'BalanceofPaymentsManualinuse',\n",
       "         'value': 'BPM5 (Converted into BPM6 by IMF)'},\n",
       "        {'id': 'CurrencyUnit', 'value': 'Ethiopian birr'},\n",
       "        {'id': 'ExternaldebtReportingstatus', 'value': 'Actual'},\n",
       "        {'id': 'GovernmentAccountingconcept',\n",
       "         'value': 'Budgetary central government'},\n",
       "        {'id': 'IMFdatadisseminationstandard',\n",
       "         'value': 'Enhanced General Data Dissemination System (e-GDDS)'},\n",
       "        {'id': 'IncomeGroup', 'value': 'Low income'},\n",
       "        {'id': 'Latesthouseholdsurvey',\n",
       "         'value': 'Socioeconomic Survey 2018-2019, Interim Demographic and Health Survey, 2019'},\n",
       "        {'id': 'Latestindustrialdata', 'value': '2014'},\n",
       "        {'id': 'Latestpopulationcensus', 'value': '2020 (expected)'},\n",
       "        {'id': 'Latesttradedata', 'value': '2016'},\n",
       "        {'id': 'Lendingcategory', 'value': 'IDA'},\n",
       "        {'id': 'LongName', 'value': 'Federal Democratic Republic of Ethiopia'},\n",
       "        {'id': 'Nationalaccountsbaseyear', 'value': '2015/2016'},\n",
       "        {'id': 'Othergroups', 'value': 'HIPC'},\n",
       "        {'id': 'PPPsurveyyear', 'value': '2017, 2011'},\n",
       "        {'id': 'Region', 'value': 'Sub-Saharan Africa'},\n",
       "        {'id': 'ShortName', 'value': 'Ethiopia'},\n",
       "        {'id': 'SNApricevaluation',\n",
       "         'value': 'Value added at basic prices (VAB)'},\n",
       "        {'id': 'SourceofmostrecentIncomeandexpendituredata',\n",
       "         'value': 'Expenditure survey/budget survey (ES/BS), 2015/16'},\n",
       "        {'id': 'SpecialNotes',\n",
       "         'value': 'Fiscal year end: July 7; reporting period for national accounts data: FY.'},\n",
       "        {'id': 'SystemofNationalAccounts',\n",
       "         'value': 'Country uses the 1993 System of National Accounts methodology'},\n",
       "        {'id': 'Systemoftrade', 'value': 'General trade system'},\n",
       "        {'id': 'TableName', 'value': 'Ethiopia'},\n",
       "        {'id': 'WB-2code', 'value': 'ET'}]}]}]}]}"
      ]
     },
     "execution_count": 34,
     "metadata": {},
     "output_type": "execute_result"
    }
   ],
   "source": [
    "r"
   ]
  },
  {
   "cell_type": "markdown",
   "metadata": {},
   "source": [
    "### Sources"
   ]
  },
  {
   "cell_type": "markdown",
   "metadata": {},
   "source": [
    "The sections of this notebook were inspired and adapted from: https://worldbank.github.io/debt-data/api-guide/ids-api-guide-python-1.html\n",
    "\n",
    "https://datacatalog.worldbank.org/getting-started-0"
   ]
  },
  {
   "cell_type": "code",
   "execution_count": null,
   "metadata": {},
   "outputs": [],
   "source": []
  }
 ],
 "metadata": {
  "kernelspec": {
   "display_name": "Python 3",
   "language": "python",
   "name": "python3"
  },
  "language_info": {
   "codemirror_mode": {
    "name": "ipython",
    "version": 3
   },
   "file_extension": ".py",
   "mimetype": "text/x-python",
   "name": "python",
   "nbconvert_exporter": "python",
   "pygments_lexer": "ipython3",
   "version": "3.8.1"
  }
 },
 "nbformat": 4,
 "nbformat_minor": 4
}
